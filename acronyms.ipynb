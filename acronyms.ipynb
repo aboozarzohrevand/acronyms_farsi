{
  "nbformat": 4,
  "nbformat_minor": 0,
  "metadata": {
    "colab": {
      "name": "acronyms.ipynb",
      "provenance": []
    },
    "kernelspec": {
      "name": "python3",
      "display_name": "Python 3"
    },
    "language_info": {
      "name": "python"
    }
  },
  "cells": [
    {
      "cell_type": "code",
      "execution_count": 1,
      "metadata": {
        "colab": {
          "base_uri": "https://localhost:8080/"
        },
        "id": "t_SYCyQk0Iqp",
        "outputId": "1188512f-b3f4-41a1-de75-86cfca8287d5"
      },
      "outputs": [
        {
          "output_type": "stream",
          "name": "stdout",
          "text": [
            "Collecting hazm\n",
            "  Downloading hazm-0.7.0-py3-none-any.whl (316 kB)\n",
            "\u001b[K     |████████████████████████████████| 316 kB 4.1 MB/s \n",
            "\u001b[?25hCollecting nltk==3.3\n",
            "  Downloading nltk-3.3.0.zip (1.4 MB)\n",
            "\u001b[K     |████████████████████████████████| 1.4 MB 32.9 MB/s \n",
            "\u001b[?25hCollecting libwapiti>=0.2.1\n",
            "  Downloading libwapiti-0.2.1.tar.gz (233 kB)\n",
            "\u001b[K     |████████████████████████████████| 233 kB 62.3 MB/s \n",
            "\u001b[?25hRequirement already satisfied: six in /usr/local/lib/python3.7/dist-packages (from nltk==3.3->hazm) (1.15.0)\n",
            "Building wheels for collected packages: nltk, libwapiti\n",
            "  Building wheel for nltk (setup.py) ... \u001b[?25l\u001b[?25hdone\n",
            "  Created wheel for nltk: filename=nltk-3.3-py3-none-any.whl size=1394488 sha256=633c31aa29347b5a0f382fbf6cd2416683b02c03aa2af717db145c72b26e18ac\n",
            "  Stored in directory: /root/.cache/pip/wheels/9b/fd/0c/d92302c876e5de87ebd7fc0979d82edb93e2d8d768bf71fac4\n",
            "  Building wheel for libwapiti (setup.py) ... \u001b[?25l\u001b[?25hdone\n",
            "  Created wheel for libwapiti: filename=libwapiti-0.2.1-cp37-cp37m-linux_x86_64.whl size=155197 sha256=a684063c8e7567ad4b64f927968f6644d6b7694a88d898c8d9e9424eef39865f\n",
            "  Stored in directory: /root/.cache/pip/wheels/ab/b2/5b/0fe4b8f5c0e65341e8ea7bb3f4a6ebabfe8b1ac31322392dbf\n",
            "Successfully built nltk libwapiti\n",
            "Installing collected packages: nltk, libwapiti, hazm\n",
            "  Attempting uninstall: nltk\n",
            "    Found existing installation: nltk 3.2.5\n",
            "    Uninstalling nltk-3.2.5:\n",
            "      Successfully uninstalled nltk-3.2.5\n",
            "Successfully installed hazm-0.7.0 libwapiti-0.2.1 nltk-3.3\n"
          ]
        }
      ],
      "source": [
        "!pip install hazm\n",
        "from __future__ import unicode_literals\n",
        "from hazm import *\n",
        "import re\n",
        "from os import replace"
      ]
    },
    {
      "cell_type": "code",
      "source": [
        "def acronyms(txt):\n",
        "  normalizer = Normalizer()\n",
        "  txt=normalizer.normalize(txt)\n",
        "  txt = re.sub(r\"[A-Za-z«»,:;</()\\[\\d+>]\", \"\", txt)\n",
        "  #print(txt)\n",
        "  matches = re.findall(\"([\\s]([آابپتثجچحخدذرزژسشصضطظعغفقکگلمنوهیئ۱۲۳۴۵۶۷۸۹۰| ]{1,6}\\.){2,4})\", txt)\n",
        "  for macth in matches:\n",
        "  #  print(macth[0])\n",
        "    y= macth[0]\n",
        "    z= y.replace('. ', '\\u200c')\n",
        "    z= z.replace('.', '')\n",
        "  #  print(z)\n",
        "    txt = txt.replace(y, z)\n",
        "  #  print(txt)\n",
        "\n",
        "  return txt"
      ],
      "metadata": {
        "id": "p_5goded0L_e"
      },
      "execution_count": 2,
      "outputs": []
    },
    {
      "cell_type": "code",
      "source": [
        "#Test\n",
        "print(acronyms('.تونی بلر نخست وزير بريتانيا گزارش بی. بی. سی. را ياوه خوانده و رد کرده است'))"
      ],
      "metadata": {
        "colab": {
          "base_uri": "https://localhost:8080/"
        },
        "id": "Wn3nADgb0TEm",
        "outputId": "6852072a-5679-43a4-f496-1abd26b3c087"
      },
      "execution_count": 4,
      "outputs": [
        {
          "output_type": "stream",
          "name": "stdout",
          "text": [
            ". تونی بلر نخست وزیر بریتانیا گزارش بی‌بی‌سی را یاوه خوانده و رد کرده است\n"
          ]
        }
      ]
    }
  ]
}